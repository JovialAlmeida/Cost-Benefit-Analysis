{
  "cells": [
    {
      "cell_type": "markdown",
      "source": [
        "## Data Reading"
      ],
      "metadata": {
        "id": "yWZveFYmpujP"
      }
    },
    {
      "cell_type": "code",
      "source": [
        "from google.colab import drive\n",
        "drive.mount('/content/drive')"
      ],
      "metadata": {
        "id": "GtPGVktj8gLi",
        "colab": {
          "base_uri": "https://localhost:8080/"
        },
        "outputId": "7a7d84e0-03dd-40c3-b669-5dbc16f00015"
      },
      "execution_count": null,
      "outputs": [
        {
          "output_type": "stream",
          "name": "stdout",
          "text": [
            "Mounted at /content/drive\n"
          ]
        }
      ]
    },
    {
      "cell_type": "code",
      "execution_count": null,
      "metadata": {
        "colab": {
          "base_uri": "https://localhost:8080/",
          "height": 443
        },
        "id": "H5PlJXSyeUL0",
        "outputId": "f7bbb891-2b5d-4ffe-d7c4-444c28c157a1"
      },
      "outputs": [
        {
          "output_type": "execute_result",
          "data": {
            "text/plain": [
              "       person_age person_gender person_education  person_income  \\\n",
              "0            22.0        female           Master        71948.0   \n",
              "1            21.0        female      High School        12282.0   \n",
              "2            25.0        female      High School        12438.0   \n",
              "3            23.0        female         Bachelor        79753.0   \n",
              "4            24.0          male           Master        66135.0   \n",
              "...           ...           ...              ...            ...   \n",
              "44995        27.0          male        Associate        47971.0   \n",
              "44996        37.0        female        Associate        65800.0   \n",
              "44997        33.0          male        Associate        56942.0   \n",
              "44998        29.0          male         Bachelor        33164.0   \n",
              "44999        24.0          male      High School        51609.0   \n",
              "\n",
              "       person_emp_exp person_home_ownership  loan_amnt        loan_intent  \\\n",
              "0                   0                  RENT    35000.0           PERSONAL   \n",
              "1                   0                   OWN     1000.0          EDUCATION   \n",
              "2                   3              MORTGAGE     5500.0            MEDICAL   \n",
              "3                   0                  RENT    35000.0            MEDICAL   \n",
              "4                   1                  RENT    35000.0            MEDICAL   \n",
              "...               ...                   ...        ...                ...   \n",
              "44995               6                  RENT    15000.0            MEDICAL   \n",
              "44996              17                  RENT     9000.0    HOMEIMPROVEMENT   \n",
              "44997               7                  RENT     2771.0  DEBTCONSOLIDATION   \n",
              "44998               4                  RENT    12000.0          EDUCATION   \n",
              "44999               1                  RENT     6665.0  DEBTCONSOLIDATION   \n",
              "\n",
              "       loan_int_rate  loan_percent_income  cb_person_cred_hist_length  \\\n",
              "0              16.02                 0.49                         3.0   \n",
              "1              11.14                 0.08                         2.0   \n",
              "2              12.87                 0.44                         3.0   \n",
              "3              15.23                 0.44                         2.0   \n",
              "4              14.27                 0.53                         4.0   \n",
              "...              ...                  ...                         ...   \n",
              "44995          15.66                 0.31                         3.0   \n",
              "44996          14.07                 0.14                        11.0   \n",
              "44997          10.02                 0.05                        10.0   \n",
              "44998          13.23                 0.36                         6.0   \n",
              "44999          17.05                 0.13                         3.0   \n",
              "\n",
              "       credit_score previous_loan_defaults_on_file  loan_status  \n",
              "0               561                             No            1  \n",
              "1               504                            Yes            0  \n",
              "2               635                             No            1  \n",
              "3               675                             No            1  \n",
              "4               586                             No            1  \n",
              "...             ...                            ...          ...  \n",
              "44995           645                             No            1  \n",
              "44996           621                             No            1  \n",
              "44997           668                             No            1  \n",
              "44998           604                             No            1  \n",
              "44999           628                             No            1  \n",
              "\n",
              "[45000 rows x 14 columns]"
            ],
            "text/html": [
              "\n",
              "  <div id=\"df-f5e55de0-a6f4-4cc2-924d-ac88ad81b897\" class=\"colab-df-container\">\n",
              "    <div>\n",
              "<style scoped>\n",
              "    .dataframe tbody tr th:only-of-type {\n",
              "        vertical-align: middle;\n",
              "    }\n",
              "\n",
              "    .dataframe tbody tr th {\n",
              "        vertical-align: top;\n",
              "    }\n",
              "\n",
              "    .dataframe thead th {\n",
              "        text-align: right;\n",
              "    }\n",
              "</style>\n",
              "<table border=\"1\" class=\"dataframe\">\n",
              "  <thead>\n",
              "    <tr style=\"text-align: right;\">\n",
              "      <th></th>\n",
              "      <th>person_age</th>\n",
              "      <th>person_gender</th>\n",
              "      <th>person_education</th>\n",
              "      <th>person_income</th>\n",
              "      <th>person_emp_exp</th>\n",
              "      <th>person_home_ownership</th>\n",
              "      <th>loan_amnt</th>\n",
              "      <th>loan_intent</th>\n",
              "      <th>loan_int_rate</th>\n",
              "      <th>loan_percent_income</th>\n",
              "      <th>cb_person_cred_hist_length</th>\n",
              "      <th>credit_score</th>\n",
              "      <th>previous_loan_defaults_on_file</th>\n",
              "      <th>loan_status</th>\n",
              "    </tr>\n",
              "  </thead>\n",
              "  <tbody>\n",
              "    <tr>\n",
              "      <th>0</th>\n",
              "      <td>22.0</td>\n",
              "      <td>female</td>\n",
              "      <td>Master</td>\n",
              "      <td>71948.0</td>\n",
              "      <td>0</td>\n",
              "      <td>RENT</td>\n",
              "      <td>35000.0</td>\n",
              "      <td>PERSONAL</td>\n",
              "      <td>16.02</td>\n",
              "      <td>0.49</td>\n",
              "      <td>3.0</td>\n",
              "      <td>561</td>\n",
              "      <td>No</td>\n",
              "      <td>1</td>\n",
              "    </tr>\n",
              "    <tr>\n",
              "      <th>1</th>\n",
              "      <td>21.0</td>\n",
              "      <td>female</td>\n",
              "      <td>High School</td>\n",
              "      <td>12282.0</td>\n",
              "      <td>0</td>\n",
              "      <td>OWN</td>\n",
              "      <td>1000.0</td>\n",
              "      <td>EDUCATION</td>\n",
              "      <td>11.14</td>\n",
              "      <td>0.08</td>\n",
              "      <td>2.0</td>\n",
              "      <td>504</td>\n",
              "      <td>Yes</td>\n",
              "      <td>0</td>\n",
              "    </tr>\n",
              "    <tr>\n",
              "      <th>2</th>\n",
              "      <td>25.0</td>\n",
              "      <td>female</td>\n",
              "      <td>High School</td>\n",
              "      <td>12438.0</td>\n",
              "      <td>3</td>\n",
              "      <td>MORTGAGE</td>\n",
              "      <td>5500.0</td>\n",
              "      <td>MEDICAL</td>\n",
              "      <td>12.87</td>\n",
              "      <td>0.44</td>\n",
              "      <td>3.0</td>\n",
              "      <td>635</td>\n",
              "      <td>No</td>\n",
              "      <td>1</td>\n",
              "    </tr>\n",
              "    <tr>\n",
              "      <th>3</th>\n",
              "      <td>23.0</td>\n",
              "      <td>female</td>\n",
              "      <td>Bachelor</td>\n",
              "      <td>79753.0</td>\n",
              "      <td>0</td>\n",
              "      <td>RENT</td>\n",
              "      <td>35000.0</td>\n",
              "      <td>MEDICAL</td>\n",
              "      <td>15.23</td>\n",
              "      <td>0.44</td>\n",
              "      <td>2.0</td>\n",
              "      <td>675</td>\n",
              "      <td>No</td>\n",
              "      <td>1</td>\n",
              "    </tr>\n",
              "    <tr>\n",
              "      <th>4</th>\n",
              "      <td>24.0</td>\n",
              "      <td>male</td>\n",
              "      <td>Master</td>\n",
              "      <td>66135.0</td>\n",
              "      <td>1</td>\n",
              "      <td>RENT</td>\n",
              "      <td>35000.0</td>\n",
              "      <td>MEDICAL</td>\n",
              "      <td>14.27</td>\n",
              "      <td>0.53</td>\n",
              "      <td>4.0</td>\n",
              "      <td>586</td>\n",
              "      <td>No</td>\n",
              "      <td>1</td>\n",
              "    </tr>\n",
              "    <tr>\n",
              "      <th>...</th>\n",
              "      <td>...</td>\n",
              "      <td>...</td>\n",
              "      <td>...</td>\n",
              "      <td>...</td>\n",
              "      <td>...</td>\n",
              "      <td>...</td>\n",
              "      <td>...</td>\n",
              "      <td>...</td>\n",
              "      <td>...</td>\n",
              "      <td>...</td>\n",
              "      <td>...</td>\n",
              "      <td>...</td>\n",
              "      <td>...</td>\n",
              "      <td>...</td>\n",
              "    </tr>\n",
              "    <tr>\n",
              "      <th>44995</th>\n",
              "      <td>27.0</td>\n",
              "      <td>male</td>\n",
              "      <td>Associate</td>\n",
              "      <td>47971.0</td>\n",
              "      <td>6</td>\n",
              "      <td>RENT</td>\n",
              "      <td>15000.0</td>\n",
              "      <td>MEDICAL</td>\n",
              "      <td>15.66</td>\n",
              "      <td>0.31</td>\n",
              "      <td>3.0</td>\n",
              "      <td>645</td>\n",
              "      <td>No</td>\n",
              "      <td>1</td>\n",
              "    </tr>\n",
              "    <tr>\n",
              "      <th>44996</th>\n",
              "      <td>37.0</td>\n",
              "      <td>female</td>\n",
              "      <td>Associate</td>\n",
              "      <td>65800.0</td>\n",
              "      <td>17</td>\n",
              "      <td>RENT</td>\n",
              "      <td>9000.0</td>\n",
              "      <td>HOMEIMPROVEMENT</td>\n",
              "      <td>14.07</td>\n",
              "      <td>0.14</td>\n",
              "      <td>11.0</td>\n",
              "      <td>621</td>\n",
              "      <td>No</td>\n",
              "      <td>1</td>\n",
              "    </tr>\n",
              "    <tr>\n",
              "      <th>44997</th>\n",
              "      <td>33.0</td>\n",
              "      <td>male</td>\n",
              "      <td>Associate</td>\n",
              "      <td>56942.0</td>\n",
              "      <td>7</td>\n",
              "      <td>RENT</td>\n",
              "      <td>2771.0</td>\n",
              "      <td>DEBTCONSOLIDATION</td>\n",
              "      <td>10.02</td>\n",
              "      <td>0.05</td>\n",
              "      <td>10.0</td>\n",
              "      <td>668</td>\n",
              "      <td>No</td>\n",
              "      <td>1</td>\n",
              "    </tr>\n",
              "    <tr>\n",
              "      <th>44998</th>\n",
              "      <td>29.0</td>\n",
              "      <td>male</td>\n",
              "      <td>Bachelor</td>\n",
              "      <td>33164.0</td>\n",
              "      <td>4</td>\n",
              "      <td>RENT</td>\n",
              "      <td>12000.0</td>\n",
              "      <td>EDUCATION</td>\n",
              "      <td>13.23</td>\n",
              "      <td>0.36</td>\n",
              "      <td>6.0</td>\n",
              "      <td>604</td>\n",
              "      <td>No</td>\n",
              "      <td>1</td>\n",
              "    </tr>\n",
              "    <tr>\n",
              "      <th>44999</th>\n",
              "      <td>24.0</td>\n",
              "      <td>male</td>\n",
              "      <td>High School</td>\n",
              "      <td>51609.0</td>\n",
              "      <td>1</td>\n",
              "      <td>RENT</td>\n",
              "      <td>6665.0</td>\n",
              "      <td>DEBTCONSOLIDATION</td>\n",
              "      <td>17.05</td>\n",
              "      <td>0.13</td>\n",
              "      <td>3.0</td>\n",
              "      <td>628</td>\n",
              "      <td>No</td>\n",
              "      <td>1</td>\n",
              "    </tr>\n",
              "  </tbody>\n",
              "</table>\n",
              "<p>45000 rows × 14 columns</p>\n",
              "</div>\n",
              "    <div class=\"colab-df-buttons\">\n",
              "\n",
              "  <div class=\"colab-df-container\">\n",
              "    <button class=\"colab-df-convert\" onclick=\"convertToInteractive('df-f5e55de0-a6f4-4cc2-924d-ac88ad81b897')\"\n",
              "            title=\"Convert this dataframe to an interactive table.\"\n",
              "            style=\"display:none;\">\n",
              "\n",
              "  <svg xmlns=\"http://www.w3.org/2000/svg\" height=\"24px\" viewBox=\"0 -960 960 960\">\n",
              "    <path d=\"M120-120v-720h720v720H120Zm60-500h600v-160H180v160Zm220 220h160v-160H400v160Zm0 220h160v-160H400v160ZM180-400h160v-160H180v160Zm440 0h160v-160H620v160ZM180-180h160v-160H180v160Zm440 0h160v-160H620v160Z\"/>\n",
              "  </svg>\n",
              "    </button>\n",
              "\n",
              "  <style>\n",
              "    .colab-df-container {\n",
              "      display:flex;\n",
              "      gap: 12px;\n",
              "    }\n",
              "\n",
              "    .colab-df-convert {\n",
              "      background-color: #E8F0FE;\n",
              "      border: none;\n",
              "      border-radius: 50%;\n",
              "      cursor: pointer;\n",
              "      display: none;\n",
              "      fill: #1967D2;\n",
              "      height: 32px;\n",
              "      padding: 0 0 0 0;\n",
              "      width: 32px;\n",
              "    }\n",
              "\n",
              "    .colab-df-convert:hover {\n",
              "      background-color: #E2EBFA;\n",
              "      box-shadow: 0px 1px 2px rgba(60, 64, 67, 0.3), 0px 1px 3px 1px rgba(60, 64, 67, 0.15);\n",
              "      fill: #174EA6;\n",
              "    }\n",
              "\n",
              "    .colab-df-buttons div {\n",
              "      margin-bottom: 4px;\n",
              "    }\n",
              "\n",
              "    [theme=dark] .colab-df-convert {\n",
              "      background-color: #3B4455;\n",
              "      fill: #D2E3FC;\n",
              "    }\n",
              "\n",
              "    [theme=dark] .colab-df-convert:hover {\n",
              "      background-color: #434B5C;\n",
              "      box-shadow: 0px 1px 3px 1px rgba(0, 0, 0, 0.15);\n",
              "      filter: drop-shadow(0px 1px 2px rgba(0, 0, 0, 0.3));\n",
              "      fill: #FFFFFF;\n",
              "    }\n",
              "  </style>\n",
              "\n",
              "    <script>\n",
              "      const buttonEl =\n",
              "        document.querySelector('#df-f5e55de0-a6f4-4cc2-924d-ac88ad81b897 button.colab-df-convert');\n",
              "      buttonEl.style.display =\n",
              "        google.colab.kernel.accessAllowed ? 'block' : 'none';\n",
              "\n",
              "      async function convertToInteractive(key) {\n",
              "        const element = document.querySelector('#df-f5e55de0-a6f4-4cc2-924d-ac88ad81b897');\n",
              "        const dataTable =\n",
              "          await google.colab.kernel.invokeFunction('convertToInteractive',\n",
              "                                                    [key], {});\n",
              "        if (!dataTable) return;\n",
              "\n",
              "        const docLinkHtml = 'Like what you see? Visit the ' +\n",
              "          '<a target=\"_blank\" href=https://colab.research.google.com/notebooks/data_table.ipynb>data table notebook</a>'\n",
              "          + ' to learn more about interactive tables.';\n",
              "        element.innerHTML = '';\n",
              "        dataTable['output_type'] = 'display_data';\n",
              "        await google.colab.output.renderOutput(dataTable, element);\n",
              "        const docLink = document.createElement('div');\n",
              "        docLink.innerHTML = docLinkHtml;\n",
              "        element.appendChild(docLink);\n",
              "      }\n",
              "    </script>\n",
              "  </div>\n",
              "\n",
              "\n",
              "<div id=\"df-8f47a542-2680-4304-821f-0b3d04b11277\">\n",
              "  <button class=\"colab-df-quickchart\" onclick=\"quickchart('df-8f47a542-2680-4304-821f-0b3d04b11277')\"\n",
              "            title=\"Suggest charts\"\n",
              "            style=\"display:none;\">\n",
              "\n",
              "<svg xmlns=\"http://www.w3.org/2000/svg\" height=\"24px\"viewBox=\"0 0 24 24\"\n",
              "     width=\"24px\">\n",
              "    <g>\n",
              "        <path d=\"M19 3H5c-1.1 0-2 .9-2 2v14c0 1.1.9 2 2 2h14c1.1 0 2-.9 2-2V5c0-1.1-.9-2-2-2zM9 17H7v-7h2v7zm4 0h-2V7h2v10zm4 0h-2v-4h2v4z\"/>\n",
              "    </g>\n",
              "</svg>\n",
              "  </button>\n",
              "\n",
              "<style>\n",
              "  .colab-df-quickchart {\n",
              "      --bg-color: #E8F0FE;\n",
              "      --fill-color: #1967D2;\n",
              "      --hover-bg-color: #E2EBFA;\n",
              "      --hover-fill-color: #174EA6;\n",
              "      --disabled-fill-color: #AAA;\n",
              "      --disabled-bg-color: #DDD;\n",
              "  }\n",
              "\n",
              "  [theme=dark] .colab-df-quickchart {\n",
              "      --bg-color: #3B4455;\n",
              "      --fill-color: #D2E3FC;\n",
              "      --hover-bg-color: #434B5C;\n",
              "      --hover-fill-color: #FFFFFF;\n",
              "      --disabled-bg-color: #3B4455;\n",
              "      --disabled-fill-color: #666;\n",
              "  }\n",
              "\n",
              "  .colab-df-quickchart {\n",
              "    background-color: var(--bg-color);\n",
              "    border: none;\n",
              "    border-radius: 50%;\n",
              "    cursor: pointer;\n",
              "    display: none;\n",
              "    fill: var(--fill-color);\n",
              "    height: 32px;\n",
              "    padding: 0;\n",
              "    width: 32px;\n",
              "  }\n",
              "\n",
              "  .colab-df-quickchart:hover {\n",
              "    background-color: var(--hover-bg-color);\n",
              "    box-shadow: 0 1px 2px rgba(60, 64, 67, 0.3), 0 1px 3px 1px rgba(60, 64, 67, 0.15);\n",
              "    fill: var(--button-hover-fill-color);\n",
              "  }\n",
              "\n",
              "  .colab-df-quickchart-complete:disabled,\n",
              "  .colab-df-quickchart-complete:disabled:hover {\n",
              "    background-color: var(--disabled-bg-color);\n",
              "    fill: var(--disabled-fill-color);\n",
              "    box-shadow: none;\n",
              "  }\n",
              "\n",
              "  .colab-df-spinner {\n",
              "    border: 2px solid var(--fill-color);\n",
              "    border-color: transparent;\n",
              "    border-bottom-color: var(--fill-color);\n",
              "    animation:\n",
              "      spin 1s steps(1) infinite;\n",
              "  }\n",
              "\n",
              "  @keyframes spin {\n",
              "    0% {\n",
              "      border-color: transparent;\n",
              "      border-bottom-color: var(--fill-color);\n",
              "      border-left-color: var(--fill-color);\n",
              "    }\n",
              "    20% {\n",
              "      border-color: transparent;\n",
              "      border-left-color: var(--fill-color);\n",
              "      border-top-color: var(--fill-color);\n",
              "    }\n",
              "    30% {\n",
              "      border-color: transparent;\n",
              "      border-left-color: var(--fill-color);\n",
              "      border-top-color: var(--fill-color);\n",
              "      border-right-color: var(--fill-color);\n",
              "    }\n",
              "    40% {\n",
              "      border-color: transparent;\n",
              "      border-right-color: var(--fill-color);\n",
              "      border-top-color: var(--fill-color);\n",
              "    }\n",
              "    60% {\n",
              "      border-color: transparent;\n",
              "      border-right-color: var(--fill-color);\n",
              "    }\n",
              "    80% {\n",
              "      border-color: transparent;\n",
              "      border-right-color: var(--fill-color);\n",
              "      border-bottom-color: var(--fill-color);\n",
              "    }\n",
              "    90% {\n",
              "      border-color: transparent;\n",
              "      border-bottom-color: var(--fill-color);\n",
              "    }\n",
              "  }\n",
              "</style>\n",
              "\n",
              "  <script>\n",
              "    async function quickchart(key) {\n",
              "      const quickchartButtonEl =\n",
              "        document.querySelector('#' + key + ' button');\n",
              "      quickchartButtonEl.disabled = true;  // To prevent multiple clicks.\n",
              "      quickchartButtonEl.classList.add('colab-df-spinner');\n",
              "      try {\n",
              "        const charts = await google.colab.kernel.invokeFunction(\n",
              "            'suggestCharts', [key], {});\n",
              "      } catch (error) {\n",
              "        console.error('Error during call to suggestCharts:', error);\n",
              "      }\n",
              "      quickchartButtonEl.classList.remove('colab-df-spinner');\n",
              "      quickchartButtonEl.classList.add('colab-df-quickchart-complete');\n",
              "    }\n",
              "    (() => {\n",
              "      let quickchartButtonEl =\n",
              "        document.querySelector('#df-8f47a542-2680-4304-821f-0b3d04b11277 button');\n",
              "      quickchartButtonEl.style.display =\n",
              "        google.colab.kernel.accessAllowed ? 'block' : 'none';\n",
              "    })();\n",
              "  </script>\n",
              "</div>\n",
              "\n",
              "  <div id=\"id_0d2ca963-0736-4727-8caf-588d6792febe\">\n",
              "    <style>\n",
              "      .colab-df-generate {\n",
              "        background-color: #E8F0FE;\n",
              "        border: none;\n",
              "        border-radius: 50%;\n",
              "        cursor: pointer;\n",
              "        display: none;\n",
              "        fill: #1967D2;\n",
              "        height: 32px;\n",
              "        padding: 0 0 0 0;\n",
              "        width: 32px;\n",
              "      }\n",
              "\n",
              "      .colab-df-generate:hover {\n",
              "        background-color: #E2EBFA;\n",
              "        box-shadow: 0px 1px 2px rgba(60, 64, 67, 0.3), 0px 1px 3px 1px rgba(60, 64, 67, 0.15);\n",
              "        fill: #174EA6;\n",
              "      }\n",
              "\n",
              "      [theme=dark] .colab-df-generate {\n",
              "        background-color: #3B4455;\n",
              "        fill: #D2E3FC;\n",
              "      }\n",
              "\n",
              "      [theme=dark] .colab-df-generate:hover {\n",
              "        background-color: #434B5C;\n",
              "        box-shadow: 0px 1px 3px 1px rgba(0, 0, 0, 0.15);\n",
              "        filter: drop-shadow(0px 1px 2px rgba(0, 0, 0, 0.3));\n",
              "        fill: #FFFFFF;\n",
              "      }\n",
              "    </style>\n",
              "    <button class=\"colab-df-generate\" onclick=\"generateWithVariable('data1')\"\n",
              "            title=\"Generate code using this dataframe.\"\n",
              "            style=\"display:none;\">\n",
              "\n",
              "  <svg xmlns=\"http://www.w3.org/2000/svg\" height=\"24px\"viewBox=\"0 0 24 24\"\n",
              "       width=\"24px\">\n",
              "    <path d=\"M7,19H8.4L18.45,9,17,7.55,7,17.6ZM5,21V16.75L18.45,3.32a2,2,0,0,1,2.83,0l1.4,1.43a1.91,1.91,0,0,1,.58,1.4,1.91,1.91,0,0,1-.58,1.4L9.25,21ZM18.45,9,17,7.55Zm-12,3A5.31,5.31,0,0,0,4.9,8.1,5.31,5.31,0,0,0,1,6.5,5.31,5.31,0,0,0,4.9,4.9,5.31,5.31,0,0,0,6.5,1,5.31,5.31,0,0,0,8.1,4.9,5.31,5.31,0,0,0,12,6.5,5.46,5.46,0,0,0,6.5,12Z\"/>\n",
              "  </svg>\n",
              "    </button>\n",
              "    <script>\n",
              "      (() => {\n",
              "      const buttonEl =\n",
              "        document.querySelector('#id_0d2ca963-0736-4727-8caf-588d6792febe button.colab-df-generate');\n",
              "      buttonEl.style.display =\n",
              "        google.colab.kernel.accessAllowed ? 'block' : 'none';\n",
              "\n",
              "      buttonEl.onclick = () => {\n",
              "        google.colab.notebook.generateWithVariable('data1');\n",
              "      }\n",
              "      })();\n",
              "    </script>\n",
              "  </div>\n",
              "\n",
              "    </div>\n",
              "  </div>\n"
            ],
            "application/vnd.google.colaboratory.intrinsic+json": {
              "type": "dataframe",
              "variable_name": "data1",
              "summary": "{\n  \"name\": \"data1\",\n  \"rows\": 45000,\n  \"fields\": [\n    {\n      \"column\": \"person_age\",\n      \"properties\": {\n        \"dtype\": \"number\",\n        \"std\": 6.045108211348622,\n        \"min\": 20.0,\n        \"max\": 144.0,\n        \"num_unique_values\": 60,\n        \"samples\": [\n          22.0,\n          26.0,\n          53.0\n        ],\n        \"semantic_type\": \"\",\n        \"description\": \"\"\n      }\n    },\n    {\n      \"column\": \"person_gender\",\n      \"properties\": {\n        \"dtype\": \"category\",\n        \"num_unique_values\": 2,\n        \"samples\": [\n          \"male\",\n          \"female\"\n        ],\n        \"semantic_type\": \"\",\n        \"description\": \"\"\n      }\n    },\n    {\n      \"column\": \"person_education\",\n      \"properties\": {\n        \"dtype\": \"category\",\n        \"num_unique_values\": 5,\n        \"samples\": [\n          \"High School\",\n          \"Doctorate\"\n        ],\n        \"semantic_type\": \"\",\n        \"description\": \"\"\n      }\n    },\n    {\n      \"column\": \"person_income\",\n      \"properties\": {\n        \"dtype\": \"number\",\n        \"std\": 80422.49863189556,\n        \"min\": 8000.0,\n        \"max\": 7200766.0,\n        \"num_unique_values\": 33989,\n        \"samples\": [\n          48967.0,\n          31001.0\n        ],\n        \"semantic_type\": \"\",\n        \"description\": \"\"\n      }\n    },\n    {\n      \"column\": \"person_emp_exp\",\n      \"properties\": {\n        \"dtype\": \"number\",\n        \"std\": 6,\n        \"min\": 0,\n        \"max\": 125,\n        \"num_unique_values\": 63,\n        \"samples\": [\n          93,\n          76\n        ],\n        \"semantic_type\": \"\",\n        \"description\": \"\"\n      }\n    },\n    {\n      \"column\": \"person_home_ownership\",\n      \"properties\": {\n        \"dtype\": \"category\",\n        \"num_unique_values\": 4,\n        \"samples\": [\n          \"OWN\",\n          \"OTHER\"\n        ],\n        \"semantic_type\": \"\",\n        \"description\": \"\"\n      }\n    },\n    {\n      \"column\": \"loan_amnt\",\n      \"properties\": {\n        \"dtype\": \"number\",\n        \"std\": 6314.8866905411405,\n        \"min\": 500.0,\n        \"max\": 35000.0,\n        \"num_unique_values\": 4483,\n        \"samples\": [\n          5800.0,\n          28338.0\n        ],\n        \"semantic_type\": \"\",\n        \"description\": \"\"\n      }\n    },\n    {\n      \"column\": \"loan_intent\",\n      \"properties\": {\n        \"dtype\": \"category\",\n        \"num_unique_values\": 6,\n        \"samples\": [\n          \"PERSONAL\",\n          \"EDUCATION\"\n        ],\n        \"semantic_type\": \"\",\n        \"description\": \"\"\n      }\n    },\n    {\n      \"column\": \"loan_int_rate\",\n      \"properties\": {\n        \"dtype\": \"number\",\n        \"std\": 2.9788082802254734,\n        \"min\": 5.42,\n        \"max\": 20.0,\n        \"num_unique_values\": 1302,\n        \"samples\": [\n          15.0,\n          13.45\n        ],\n        \"semantic_type\": \"\",\n        \"description\": \"\"\n      }\n    },\n    {\n      \"column\": \"loan_percent_income\",\n      \"properties\": {\n        \"dtype\": \"number\",\n        \"std\": 0.08721230801403355,\n        \"min\": 0.0,\n        \"max\": 0.66,\n        \"num_unique_values\": 64,\n        \"samples\": [\n          0.45,\n          0.54\n        ],\n        \"semantic_type\": \"\",\n        \"description\": \"\"\n      }\n    },\n    {\n      \"column\": \"cb_person_cred_hist_length\",\n      \"properties\": {\n        \"dtype\": \"number\",\n        \"std\": 3.8797018451620433,\n        \"min\": 2.0,\n        \"max\": 30.0,\n        \"num_unique_values\": 29,\n        \"samples\": [\n          24.0,\n          25.0\n        ],\n        \"semantic_type\": \"\",\n        \"description\": \"\"\n      }\n    },\n    {\n      \"column\": \"credit_score\",\n      \"properties\": {\n        \"dtype\": \"number\",\n        \"std\": 50,\n        \"min\": 390,\n        \"max\": 850,\n        \"num_unique_values\": 340,\n        \"samples\": [\n          492,\n          484\n        ],\n        \"semantic_type\": \"\",\n        \"description\": \"\"\n      }\n    },\n    {\n      \"column\": \"previous_loan_defaults_on_file\",\n      \"properties\": {\n        \"dtype\": \"category\",\n        \"num_unique_values\": 2,\n        \"samples\": [\n          \"Yes\",\n          \"No\"\n        ],\n        \"semantic_type\": \"\",\n        \"description\": \"\"\n      }\n    },\n    {\n      \"column\": \"loan_status\",\n      \"properties\": {\n        \"dtype\": \"number\",\n        \"std\": 0,\n        \"min\": 0,\n        \"max\": 1,\n        \"num_unique_values\": 2,\n        \"samples\": [\n          0,\n          1\n        ],\n        \"semantic_type\": \"\",\n        \"description\": \"\"\n      }\n    }\n  ]\n}"
            }
          },
          "metadata": {},
          "execution_count": 3
        }
      ],
      "source": [
        "from pandas import read_csv\n",
        "data1 = read_csv('/content/drive/MyDrive/loan_data.csv')\n",
        "data1"
      ]
    },
    {
      "cell_type": "markdown",
      "source": [
        "##Data Info"
      ],
      "metadata": {
        "id": "3nhH627pp1Ly"
      }
    },
    {
      "cell_type": "code",
      "execution_count": null,
      "metadata": {
        "colab": {
          "base_uri": "https://localhost:8080/"
        },
        "id": "4yJu_Z70fC15",
        "outputId": "75312f8a-e345-4cb4-d3b1-fb2126ec3920"
      },
      "outputs": [
        {
          "output_type": "stream",
          "name": "stdout",
          "text": [
            "<class 'pandas.core.frame.DataFrame'>\n",
            "RangeIndex: 45000 entries, 0 to 44999\n",
            "Data columns (total 14 columns):\n",
            " #   Column                          Non-Null Count  Dtype  \n",
            "---  ------                          --------------  -----  \n",
            " 0   person_age                      45000 non-null  float64\n",
            " 1   person_gender                   45000 non-null  object \n",
            " 2   person_education                45000 non-null  object \n",
            " 3   person_income                   45000 non-null  float64\n",
            " 4   person_emp_exp                  45000 non-null  int64  \n",
            " 5   person_home_ownership           45000 non-null  object \n",
            " 6   loan_amnt                       45000 non-null  float64\n",
            " 7   loan_intent                     45000 non-null  object \n",
            " 8   loan_int_rate                   45000 non-null  float64\n",
            " 9   loan_percent_income             45000 non-null  float64\n",
            " 10  cb_person_cred_hist_length      45000 non-null  float64\n",
            " 11  credit_score                    45000 non-null  int64  \n",
            " 12  previous_loan_defaults_on_file  45000 non-null  object \n",
            " 13  loan_status                     45000 non-null  int64  \n",
            "dtypes: float64(6), int64(3), object(5)\n",
            "memory usage: 4.8+ MB\n"
          ]
        }
      ],
      "source": [
        "data1.describe()\n",
        "data1.info()"
      ]
    },
    {
      "cell_type": "code",
      "execution_count": null,
      "metadata": {
        "colab": {
          "base_uri": "https://localhost:8080/"
        },
        "id": "xcv9g-g4fwhO",
        "outputId": "d2ba6b0e-8ce8-43a7-ca81-8e6d2a50960b"
      },
      "outputs": [
        {
          "output_type": "execute_result",
          "data": {
            "text/plain": [
              "array(['PERSONAL', 'EDUCATION', 'MEDICAL', 'VENTURE', 'HOMEIMPROVEMENT',\n",
              "       'DEBTCONSOLIDATION'], dtype=object)"
            ]
          },
          "metadata": {},
          "execution_count": 5
        }
      ],
      "source": [
        "data1['person_gender'].unique()\n",
        "data1['person_education'].unique()\n",
        "data1['person_home_ownership'].unique()\n",
        "data1['loan_intent'].unique() #get dummies\n",
        "#data1['previous_loan_defaults_on_file'].unique()\n"
      ]
    },
    {
      "cell_type": "markdown",
      "source": [
        "## Data Encoding"
      ],
      "metadata": {
        "id": "Rle3fWsYp30R"
      }
    },
    {
      "cell_type": "code",
      "execution_count": null,
      "metadata": {
        "id": "Bv-tOM_2fsLf"
      },
      "outputs": [],
      "source": [
        "#Encoding\n",
        "from pandas import get_dummies\n",
        "# Mapping to encode Ordinal Categorical features\n",
        "data1['person_gender'] = data1['person_gender'].map({'male':1, 'female':0})\n",
        "data1['person_education'] = data1['person_education'].map({'High School':0, 'Bachelor':1, 'Associate':2, 'Master':3, 'Doctorate':4})\n",
        "data1['previous_loan_defaults_on_file'] = data1['previous_loan_defaults_on_file'].map({'Yes':1, 'No':0})\n",
        "\n",
        "# Using get dummies to encode Nominal Categorical features\n",
        "data1=get_dummies(data1,columns=['person_home_ownership','loan_intent'],dtype=int)\n"
      ]
    },
    {
      "cell_type": "code",
      "execution_count": null,
      "metadata": {
        "colab": {
          "base_uri": "https://localhost:8080/"
        },
        "id": "e0JpOJeGmhVb",
        "outputId": "359c186a-b33d-4a98-d116-c420964a0cf9"
      },
      "outputs": [
        {
          "output_type": "stream",
          "name": "stdout",
          "text": [
            "<class 'pandas.core.frame.DataFrame'>\n",
            "RangeIndex: 45000 entries, 0 to 44999\n",
            "Data columns (total 22 columns):\n",
            " #   Column                          Non-Null Count  Dtype  \n",
            "---  ------                          --------------  -----  \n",
            " 0   person_age                      45000 non-null  float64\n",
            " 1   person_gender                   45000 non-null  int64  \n",
            " 2   person_education                45000 non-null  int64  \n",
            " 3   person_income                   45000 non-null  float64\n",
            " 4   person_emp_exp                  45000 non-null  int64  \n",
            " 5   loan_amnt                       45000 non-null  float64\n",
            " 6   loan_int_rate                   45000 non-null  float64\n",
            " 7   loan_percent_income             45000 non-null  float64\n",
            " 8   cb_person_cred_hist_length      45000 non-null  float64\n",
            " 9   credit_score                    45000 non-null  int64  \n",
            " 10  previous_loan_defaults_on_file  45000 non-null  int64  \n",
            " 11  loan_status                     45000 non-null  int64  \n",
            " 12  person_home_ownership_MORTGAGE  45000 non-null  int64  \n",
            " 13  person_home_ownership_OTHER     45000 non-null  int64  \n",
            " 14  person_home_ownership_OWN       45000 non-null  int64  \n",
            " 15  person_home_ownership_RENT      45000 non-null  int64  \n",
            " 16  loan_intent_DEBTCONSOLIDATION   45000 non-null  int64  \n",
            " 17  loan_intent_EDUCATION           45000 non-null  int64  \n",
            " 18  loan_intent_HOMEIMPROVEMENT     45000 non-null  int64  \n",
            " 19  loan_intent_MEDICAL             45000 non-null  int64  \n",
            " 20  loan_intent_PERSONAL            45000 non-null  int64  \n",
            " 21  loan_intent_VENTURE             45000 non-null  int64  \n",
            "dtypes: float64(6), int64(16)\n",
            "memory usage: 7.6 MB\n"
          ]
        }
      ],
      "source": [
        "data1.info() # Checking Data types and null values"
      ]
    },
    {
      "cell_type": "markdown",
      "source": [
        "# Data Splitting into input and output variables"
      ],
      "metadata": {
        "id": "YoS9HJJnp8Hc"
      }
    },
    {
      "cell_type": "code",
      "execution_count": null,
      "metadata": {
        "id": "VG_5iGh8uIlA"
      },
      "outputs": [],
      "source": [
        "X = data1.drop('loan_status', axis = 1) # Features\n",
        "Y = data1['loan_status'] # Labels"
      ]
    },
    {
      "cell_type": "code",
      "execution_count": null,
      "metadata": {
        "colab": {
          "base_uri": "https://localhost:8080/"
        },
        "id": "ZZW3a625uWdh",
        "outputId": "7221e5fb-2d7c-4379-eed8-375a278b2deb"
      },
      "outputs": [
        {
          "output_type": "stream",
          "name": "stdout",
          "text": [
            "<class 'pandas.core.frame.DataFrame'>\n",
            "RangeIndex: 45000 entries, 0 to 44999\n",
            "Data columns (total 21 columns):\n",
            " #   Column                          Non-Null Count  Dtype  \n",
            "---  ------                          --------------  -----  \n",
            " 0   person_age                      45000 non-null  float64\n",
            " 1   person_gender                   45000 non-null  int64  \n",
            " 2   person_education                45000 non-null  int64  \n",
            " 3   person_income                   45000 non-null  float64\n",
            " 4   person_emp_exp                  45000 non-null  int64  \n",
            " 5   loan_amnt                       45000 non-null  float64\n",
            " 6   loan_int_rate                   45000 non-null  float64\n",
            " 7   loan_percent_income             45000 non-null  float64\n",
            " 8   cb_person_cred_hist_length      45000 non-null  float64\n",
            " 9   credit_score                    45000 non-null  int64  \n",
            " 10  previous_loan_defaults_on_file  45000 non-null  int64  \n",
            " 11  person_home_ownership_MORTGAGE  45000 non-null  int64  \n",
            " 12  person_home_ownership_OTHER     45000 non-null  int64  \n",
            " 13  person_home_ownership_OWN       45000 non-null  int64  \n",
            " 14  person_home_ownership_RENT      45000 non-null  int64  \n",
            " 15  loan_intent_DEBTCONSOLIDATION   45000 non-null  int64  \n",
            " 16  loan_intent_EDUCATION           45000 non-null  int64  \n",
            " 17  loan_intent_HOMEIMPROVEMENT     45000 non-null  int64  \n",
            " 18  loan_intent_MEDICAL             45000 non-null  int64  \n",
            " 19  loan_intent_PERSONAL            45000 non-null  int64  \n",
            " 20  loan_intent_VENTURE             45000 non-null  int64  \n",
            "dtypes: float64(6), int64(15)\n",
            "memory usage: 7.2 MB\n"
          ]
        }
      ],
      "source": [
        "X.info()"
      ]
    },
    {
      "cell_type": "code",
      "execution_count": null,
      "metadata": {
        "colab": {
          "base_uri": "https://localhost:8080/"
        },
        "id": "cjCMURB1ubDv",
        "outputId": "95ca8bbf-4a5f-4cc6-9141-9c3cc7e481af"
      },
      "outputs": [
        {
          "output_type": "stream",
          "name": "stdout",
          "text": [
            "<class 'pandas.core.series.Series'>\n",
            "RangeIndex: 45000 entries, 0 to 44999\n",
            "Series name: loan_status\n",
            "Non-Null Count  Dtype\n",
            "--------------  -----\n",
            "45000 non-null  int64\n",
            "dtypes: int64(1)\n",
            "memory usage: 351.7 KB\n"
          ]
        }
      ],
      "source": [
        "Y.info()"
      ]
    },
    {
      "cell_type": "markdown",
      "source": [
        "#Data Scaling and Splitting into training and test set"
      ],
      "metadata": {
        "id": "KwpcKBZjqMTX"
      }
    },
    {
      "cell_type": "code",
      "execution_count": null,
      "metadata": {
        "id": "Hi2GJ_HePuKH"
      },
      "outputs": [],
      "source": [
        "from sklearn.preprocessing import StandardScaler\n",
        "from sklearn.model_selection import train_test_split\n",
        "\n",
        "#Scaling the feature values\n",
        "X_scaled = StandardScaler().fit_transform(X)\n",
        "\n",
        "#Spliting Data\n",
        "X_train,X_test,Y_train,Y_test = train_test_split(X_scaled, Y, test_size= 0.25, random_state=100)"
      ]
    },
    {
      "cell_type": "markdown",
      "source": [
        "# Data Balancing"
      ],
      "metadata": {
        "id": "e-eFR-KK9BUg"
      }
    },
    {
      "cell_type": "code",
      "source": [
        "from imblearn.over_sampling import SMOTE\n",
        "sm=SMOTE(random_state = 20) # Building the balancing model\n",
        "sm_x_train,sm_y_train = sm.fit_resample(X_train,Y_train) # Balancing the data"
      ],
      "metadata": {
        "id": "_k6SZigD9F5M"
      },
      "execution_count": null,
      "outputs": []
    },
    {
      "cell_type": "markdown",
      "source": [
        "##k-nearest neighbors (KNN) Classification Model"
      ],
      "metadata": {
        "id": "RUTfTa1bqWCl"
      }
    },
    {
      "cell_type": "markdown",
      "source": [
        "## KNN with Gridsearch CV"
      ],
      "metadata": {
        "id": "thMBHzqJqaoV"
      }
    },
    {
      "cell_type": "code",
      "source": [
        "from sklearn.neighbors import KNeighborsClassifier\n",
        "from sklearn.model_selection import GridSearchCV\n",
        "from sklearn.metrics import precision_score, confusion_matrix\n",
        "from imblearn.pipeline import Pipeline\n",
        "\n",
        "# Create pipeline variable for Gridsearch for applying balancing and classification\n",
        "\n",
        "knn_pipeline = Pipeline([\n",
        "    ('balancing', SMOTE(random_state=20)),  # Apply SMOTE to training data\n",
        "    ('classification', KNeighborsClassifier())  # KNN model\n",
        "])\n",
        "\n",
        "# Create variable for parameter grid for tuning\n",
        "param_grid = {\n",
        "    \"classification__n_neighbors\": [3, 5, 7, 9, 11],   # Number of neighbors to consider\n",
        "    \"classification__weights\": [\"uniform\", \"distance\"],  # Weight function\n",
        "    \"classification__metric\": [\"euclidean\", \"manhattan\"]    # Distance metric\n",
        "}\n",
        "\n",
        "# Perform GridSearchCV (using precision as the scoring metric)\n",
        "grid_search = GridSearchCV(knn_pipeline, param_grid, cv=4, scoring=\"precision\", n_jobs=-1, verbose=1)\n",
        "grid_search.fit(X_scaled, Y)\n",
        "\n",
        "# Get the best model and parameters\n",
        "best_knn = grid_search.best_estimator_  # Extract the best trained model\n",
        "print(\"Best Parameters:\", grid_search.best_params_)\n",
        "print(\"Best Precision on Cross-Validation:\", grid_search.best_score_)"
      ],
      "metadata": {
        "colab": {
          "base_uri": "https://localhost:8080/"
        },
        "id": "yDJCO-_Xn_cJ",
        "outputId": "29ed5a96-4ebb-4e17-f2d3-ff52155209ea"
      },
      "execution_count": null,
      "outputs": [
        {
          "output_type": "stream",
          "name": "stdout",
          "text": [
            "Best Parameters: {'classification__metric': 'manhattan', 'classification__n_neighbors': 3, 'classification__weights': 'distance'}\n",
            "Best Precision on Cross-Validation: 0.6596028548239615\n"
          ]
        }
      ]
    },
    {
      "cell_type": "markdown",
      "source": [
        "## Random Forest Classification Model"
      ],
      "metadata": {
        "id": "aPYc5eNwq-6Z"
      }
    },
    {
      "cell_type": "markdown",
      "source": [
        "# Random Forest with Gridsearch\n"
      ],
      "metadata": {
        "id": "eUUxR-lGRy-o"
      }
    },
    {
      "cell_type": "code",
      "execution_count": null,
      "metadata": {
        "colab": {
          "base_uri": "https://localhost:8080/"
        },
        "id": "wTUHZqcFumHd",
        "outputId": "fa466ab4-30e8-4a03-c90b-9205d7a21da4"
      },
      "outputs": [
        {
          "output_type": "stream",
          "name": "stdout",
          "text": [
            "{'classification__n_estimators': 300}\n",
            "0.8023232883867083\n",
            "Feature Importances:\n",
            " previous_loan_defaults_on_file    0.332739\n",
            "loan_percent_income               0.129532\n",
            "loan_int_rate                     0.128170\n",
            "person_income                     0.087785\n",
            "loan_amnt                         0.050270\n",
            "credit_score                      0.041446\n",
            "cb_person_cred_hist_length        0.034700\n",
            "person_age                        0.034440\n",
            "person_home_ownership_RENT        0.032441\n",
            "person_emp_exp                    0.031328\n",
            "person_education                  0.020722\n",
            "person_home_ownership_MORTGAGE    0.018532\n",
            "person_home_ownership_OWN         0.010507\n",
            "loan_intent_VENTURE               0.008847\n",
            "loan_intent_HOMEIMPROVEMENT       0.007257\n",
            "loan_intent_DEBTCONSOLIDATION     0.007119\n",
            "person_gender                     0.006927\n",
            "loan_intent_MEDICAL               0.006729\n",
            "loan_intent_EDUCATION             0.005518\n",
            "loan_intent_PERSONAL              0.004595\n",
            "person_home_ownership_OTHER       0.000398\n",
            "dtype: float64\n"
          ]
        }
      ],
      "source": [
        "# Random Forest Classifier with GridSearch\n",
        "from sklearn import ensemble\n",
        "from pandas import  Series\n",
        "from sklearn.model_selection import GridSearchCV\n",
        "\n",
        "#Build RF classifier\n",
        "RF_classifier2=Pipeline([('balancing',SMOTE(random_state=86)),('classification',ensemble.RandomForestClassifier(criterion='entropy',max_features='sqrt',random_state=1))])   #Combining the balancing and classification methods for evaluation\n",
        "no_trees = {'classification__n_estimators': [300, 350, 400, 450]}                                                                                                            #Defining total number of estimators to be tested\n",
        "grid_search1 = GridSearchCV(estimator=RF_classifier2, param_grid=no_trees, scoring='precision', cv=5)\n",
        "grid_search1.fit(X_scaled, Y)                                                                                                                                                ## training, testing , evaluation, ranking.\n",
        "\n",
        "#Store best parameters into a new variable\n",
        "best_parameters = grid_search1.best_params_\n",
        "print(best_parameters)\n",
        "\n",
        "#Store Best results into a new variable\n",
        "best_result = grid_search1.best_score_\n",
        "print(best_result)\n",
        "\n",
        "# Extract feature importances from the best model\n",
        "best_model = grid_search1.best_estimator_.named_steps['classification']\n",
        "Important_feature = Series(best_model.feature_importances_, index=list(X)).sort_values(ascending=False)\n",
        "print(\"Feature Importances:\\n\", Important_feature)"
      ]
    },
    {
      "cell_type": "markdown",
      "source": [
        "# Random Forest Classifier with GridSearch and best features"
      ],
      "metadata": {
        "id": "qAuiz_uCR_5T"
      }
    },
    {
      "cell_type": "code",
      "source": [
        "\n",
        "from sklearn import ensemble\n",
        "from pandas import  Series\n",
        "from sklearn.model_selection import GridSearchCV\n",
        "from imblearn.over_sampling import SMOTE\n",
        "\n",
        "X1=X[['previous_loan_defaults_on_file','loan_percent_income','loan_int_rate','person_income','loan_amnt','credit_score']]\n",
        "#Scaling the feature values\n",
        "X_scaled1 = StandardScaler().fit_transform(X1)\n",
        "\n",
        "#Build RF classifier\n",
        "RF_classifier2=Pipeline([('balancing',SMOTE(random_state=86)),('classification',ensemble.RandomForestClassifier(criterion='entropy',max_features='sqrt',random_state=1))])   #Combining the balancing and classification methods for evaluation\n",
        "no_trees = {'classification__n_estimators': [300, 350, 400, 450]}                                                                                                            #Defining total number of estimators to be tested\n",
        "grid_search1 = GridSearchCV(estimator=RF_classifier2, param_grid=no_trees, scoring='precision', cv=4)\n",
        "grid_search1.fit(X_scaled1, Y)                                                                                                                                                ## training, testing , evaluation, ranking.\n",
        "\n",
        "#Store best parameters into a new variable\n",
        "best_parameters = grid_search1.best_params_\n",
        "print(best_parameters)\n",
        "\n",
        "#Store Best results into a new variable\n",
        "best_result = grid_search1.best_score_\n",
        "print(best_result)"
      ],
      "metadata": {
        "colab": {
          "base_uri": "https://localhost:8080/"
        },
        "id": "nZ3n9FDA2oyQ",
        "outputId": "eecacefe-bfa4-4d4a-eb1f-10a41129b678"
      },
      "execution_count": null,
      "outputs": [
        {
          "output_type": "stream",
          "name": "stdout",
          "text": [
            "{'classification__n_estimators': 300}\n",
            "0.7468817803640468\n"
          ]
        }
      ]
    },
    {
      "cell_type": "markdown",
      "source": [
        "#RandomForest with best features"
      ],
      "metadata": {
        "id": "gEn2sI2sSH4O"
      }
    },
    {
      "cell_type": "code",
      "source": [
        "\n",
        "from sklearn.ensemble import RandomForestClassifier\n",
        "\n",
        "#Spliting Data\n",
        "X_train1,X_test1,Y_train1,Y_test1 = train_test_split(X_scaled1, Y, test_size= 0.25, random_state=100)\n",
        "\n",
        "sm=SMOTE(random_state = 20)\n",
        "sm_x_train,sm_y_train = sm.fit_resample(X_train1,Y_train1)\n",
        "\n",
        "\n",
        "RF_classifier1 = RandomForestClassifier(n_estimators = 300, criterion ='entropy', max_features = 'sqrt', random_state = 1 )#building the model\n",
        "RF_classifier1.fit(sm_x_train, sm_y_train) #training\n",
        "y_pred1 = RF_classifier1.predict(X_test1) #Testing\n",
        "\n",
        "#Evaluation\n",
        "precision = precision_score(Y_test1,y_pred1)\n",
        "confusion_matrix = confusion_matrix(Y_test1,y_pred1)\n",
        "\n",
        "print(\"Precision\",precision)\n",
        "print(\"Confusion Matrix\",confusion_matrix)"
      ],
      "metadata": {
        "id": "gT81faIYpFzn",
        "colab": {
          "base_uri": "https://localhost:8080/"
        },
        "outputId": "2797e95d-d18f-4f85-a14b-7e6bee18b143"
      },
      "execution_count": null,
      "outputs": [
        {
          "output_type": "stream",
          "name": "stdout",
          "text": [
            "Precision 0.7548736462093862\n",
            "Confusion Matrix [[8097  679]\n",
            " [ 383 2091]]\n"
          ]
        }
      ]
    },
    {
      "cell_type": "markdown",
      "source": [
        "# **Final Selected Model:** Random Forest without best features and the number of estimators (300) derived from Grid Search\n"
      ],
      "metadata": {
        "id": "c4xCYj6DTZb0"
      }
    },
    {
      "cell_type": "code",
      "source": [
        "from sklearn.ensemble import RandomForestClassifier\n",
        "from sklearn.metrics import precision_score, confusion_matrix\n",
        "\n",
        "RF_classifier1 = RandomForestClassifier(n_estimators = 300, criterion ='entropy', max_features = 'sqrt', random_state = 1 )#building the model\n",
        "RF_classifier1.fit(sm_x_train, sm_y_train) #training\n",
        "y_pred2 = RF_classifier1.predict(X_test) #Testing\n",
        "\n",
        "#Evaluation\n",
        "precision = precision_score(Y_test,y_pred2)\n",
        "confusion_matrix = confusion_matrix(Y_test,y_pred2)\n",
        "\n",
        "print(\"Precision\",precision)\n",
        "print(\"Confusion Matrix\",confusion_matrix)"
      ],
      "metadata": {
        "id": "3OGOXtvfJaJl",
        "colab": {
          "base_uri": "https://localhost:8080/"
        },
        "outputId": "afbc2642-9c5a-4a34-8e3c-57f549e9b232"
      },
      "execution_count": null,
      "outputs": [
        {
          "output_type": "stream",
          "name": "stdout",
          "text": [
            "Precision 0.8055662930034789\n",
            "Confusion Matrix [[8273  503]\n",
            " [ 390 2084]]\n"
          ]
        }
      ]
    },
    {
      "cell_type": "markdown",
      "source": [
        "## Support Vector Classifier"
      ],
      "metadata": {
        "id": "Ch0pSl_7rBgR"
      }
    },
    {
      "cell_type": "markdown",
      "source": [
        "####Creating separate iterations for different compinations of feature tuning to handle issue of computational failure"
      ],
      "metadata": {
        "id": "dj5eOsCpaC4F"
      }
    },
    {
      "cell_type": "code",
      "execution_count": null,
      "metadata": {
        "id": "OoP7kv2txxtF",
        "colab": {
          "base_uri": "https://localhost:8080/"
        },
        "outputId": "565c3926-3051-4644-db4f-c630881a872e"
      },
      "outputs": [
        {
          "output_type": "stream",
          "name": "stdout",
          "text": [
            "{'classification__C': 1, 'classification__kernel': 'linear'}\n",
            "0.6256741907155169\n"
          ]
        }
      ],
      "source": [
        "#  Support Vector Classifier\n",
        "from imblearn.over_sampling import SMOTE\n",
        "from sklearn import svm\n",
        "from imblearn.pipeline import Pipeline\n",
        "from sklearn.model_selection import GridSearchCV\n",
        "SVM_classifier2 = Pipeline([('balancing', SMOTE(random_state = 101)),('classification', svm.SVC(random_state=10) ) ]) # bulilding classifier\n",
        "kernels_c = {'classification__kernel': ['linear'], 'classification__C': [0.1,1,10]}\n",
        "grid_search3 = GridSearchCV(estimator=SVM_classifier2, param_grid=kernels_c, scoring='precision', cv=5)\n",
        "grid_search3.fit(X_scaled, Y)#training and testing,.....\n",
        "\n",
        "best_parameters = grid_search3.best_params_\n",
        "print(best_parameters)\n",
        "best_result = grid_search3.best_score_\n",
        "print(best_result)"
      ]
    },
    {
      "cell_type": "code",
      "execution_count": null,
      "metadata": {
        "id": "wxTvxpz3MhK5",
        "colab": {
          "base_uri": "https://localhost:8080/"
        },
        "outputId": "dad5affb-dc9a-468a-a602-ccf70ecc8ec0"
      },
      "outputs": [
        {
          "output_type": "stream",
          "name": "stdout",
          "text": [
            "{'classification__C': 1, 'classification__kernel': 'sigmoid'}\n",
            "0.6424478564278981\n"
          ]
        }
      ],
      "source": [
        "#  Support Vector Classifier\n",
        "from imblearn.over_sampling import SMOTE\n",
        "from sklearn import svm\n",
        "from imblearn.pipeline import Pipeline\n",
        "from sklearn.model_selection import GridSearchCV\n",
        "SVM_classifier2 = Pipeline([('balancing', SMOTE(random_state = 101)),('classification', svm.SVC(random_state=10) ) ]) # bulilding classifier\n",
        "kernels_c = {'classification__kernel': ['sigmoid'], 'classification__C': [0.1,1,10]}\n",
        "grid_search3 = GridSearchCV(estimator=SVM_classifier2, param_grid=kernels_c, scoring='precision', cv=5)\n",
        "grid_search3.fit(X_scaled, Y)#training and testing,.....\n",
        "\n",
        "best_parameters = grid_search3.best_params_\n",
        "print(best_parameters)\n",
        "best_result = grid_search3.best_score_\n",
        "print(best_result)"
      ]
    },
    {
      "cell_type": "code",
      "execution_count": null,
      "metadata": {
        "id": "xAnm82ztPRhY",
        "colab": {
          "base_uri": "https://localhost:8080/"
        },
        "outputId": "c30124a6-6474-4dc5-d0f5-516f095ddfda"
      },
      "outputs": [
        {
          "output_type": "stream",
          "name": "stdout",
          "text": [
            "{'classification__C': 1, 'classification__kernel': 'poly'}\n",
            "0.6632504903638514\n"
          ]
        }
      ],
      "source": [
        "#  Support Vector Classifier\n",
        "from imblearn.over_sampling import SMOTE\n",
        "from sklearn import svm\n",
        "from imblearn.pipeline import Pipeline\n",
        "from sklearn.model_selection import GridSearchCV\n",
        "SVM_classifier2 = Pipeline([('balancing', SMOTE(random_state = 101)),('classification', svm.SVC(random_state=10) ) ]) # bulilding classifier\n",
        "kernels_c = {'classification__kernel': ['poly'], 'classification__C': [0.1,1,10]}\n",
        "grid_search3 = GridSearchCV(estimator=SVM_classifier2, param_grid=kernels_c, scoring='precision', cv=5)\n",
        "grid_search3.fit(X_scaled, Y)#training and testing,.....\n",
        "\n",
        "best_parameters = grid_search3.best_params_\n",
        "print(best_parameters)\n",
        "best_result = grid_search3.best_score_\n",
        "print(best_result)"
      ]
    },
    {
      "cell_type": "code",
      "execution_count": null,
      "metadata": {
        "id": "cpQc1SYgPTEw",
        "colab": {
          "base_uri": "https://localhost:8080/"
        },
        "outputId": "0d375e7c-2fae-490f-aa1e-50a11e4e9398"
      },
      "outputs": [
        {
          "metadata": {
            "tags": null
          },
          "name": "stdout",
          "output_type": "stream",
          "text": [
            "{'classification__C': 1, 'classification__kernel': 'rbf'}\n",
            "0.6614063786457243\n"
          ]
        }
      ],
      "source": [
        "#  Support Vector Classifier\n",
        "from imblearn.over_sampling import SMOTE\n",
        "from sklearn import svm\n",
        "from imblearn.pipeline import Pipeline\n",
        "from sklearn.model_selection import GridSearchCV\n",
        "SVM_classifier2 = Pipeline([('balancing', SMOTE(random_state = 101)),('classification', svm.SVC(random_state=10) ) ]) # bulilding classifier\n",
        "kernels_c = {'classification__kernel': ['rbf'], 'classification__C': [0.1,1,10]}\n",
        "grid_search3 = GridSearchCV(estimator=SVM_classifier2, param_grid=kernels_c, scoring='precision', cv=5)\n",
        "grid_search3.fit(X_scaled, Y)#training and testing,.....\n",
        "\n",
        "best_parameters = grid_search3.best_params_\n",
        "print(best_parameters)\n",
        "best_result = grid_search3.best_score_\n",
        "print(best_result)"
      ]
    },
    {
      "cell_type": "markdown",
      "source": [
        "#Cost Benefit Analysis"
      ],
      "metadata": {
        "id": "mufcnj52HZoO"
      }
    },
    {
      "cell_type": "markdown",
      "source": [
        "**Assumptions**"
      ],
      "metadata": {
        "id": "p-K4dJlFHhHP"
      }
    },
    {
      "cell_type": "markdown",
      "source": [
        "\n",
        "1. Average Loan Amt = €9583​\n",
        "2. Average Interest (% Simple Interest)= 11%​\n",
        "3. Average Loan tenure (Years) = 3 years"
      ],
      "metadata": {
        "id": "jMoG7IyMajuR"
      }
    },
    {
      "cell_type": "markdown",
      "source": [
        "Previous model cost and benefit calculation in Excel\n"
      ],
      "metadata": {
        "id": "Ww7TUBdsbmMw"
      }
    },
    {
      "cell_type": "markdown",
      "source": [
        "![image.png](data:image/png;base64,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)\n",
        "\n",
        "![image.png](data:image/png;base64,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)\n",
        "\n",
        "![image.png](data:image/png;base64,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)"
      ],
      "metadata": {
        "id": "IJDdQVZ0poo-"
      }
    },
    {
      "cell_type": "markdown",
      "source": [
        "**Scenario 1:** No Default Detection System\n",
        "Without any detection system, the company approves and rejects loans manually, leading to high financial losses.\n",
        "\n",
        "*Key Issue:* Without a detection system, the company faces huge losses due to incorrectly approved loans.\n",
        "\n",
        "**Scenario 2:** Existing Default Detection System (75% Precision)\n",
        "The older system is less accurate, leading to higher false positives and missed risky loans.\n",
        "\n",
        "*Key Issue:* The older system saves only €63M, making it €40M less effective than the new model.\n",
        "\n",
        "**Scenario 3:** New Default Detection System (80% Precision)\n",
        "The new AI-based detection system correctly identifies more risky loans and saves the company money.\n",
        "\n",
        "*Key Benefit:* The new system saves €104M per year by reducing bad loan approvals.\n",
        "\n",
        "**Additional Loan Insights**\n",
        "Average Loan Amount\t= €9,583\n",
        "Average Interest Rate =\t11% (Simple Interest)\n",
        "Average Loan Duration =\t3 Years"
      ],
      "metadata": {
        "id": "S3BKyPZNuUx-"
      }
    }
  ],
  "metadata": {
    "colab": {
      "provenance": []
    },
    "kernelspec": {
      "display_name": "Python 3",
      "name": "python3"
    },
    "language_info": {
      "name": "python"
    }
  },
  "nbformat": 4,
  "nbformat_minor": 0
}